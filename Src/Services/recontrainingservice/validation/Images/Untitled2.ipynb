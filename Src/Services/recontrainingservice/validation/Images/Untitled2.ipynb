{
 "cells": [
  {
   "cell_type": "code",
   "execution_count": 4,
   "metadata": {},
   "outputs": [
    {
     "name": "stdout",
     "output_type": "stream",
     "text": [
      "/home/quest/DataSets/\n"
     ]
    }
   ],
   "source": [
    "txt='/home/quest/DataSets/groundtruth/vhf.1.png'\n",
    "filename=txt[txt.rfind('/')+1:]\n",
    "baseurl=txt[:txt[:txt.rfind('/')].rfind('/')+1]\n",
    "print(baseurl)\n",
    "groundTruth=baseurl+\"groundtruth/\"+filename"
   ]
  },
  {
   "cell_type": "code",
   "execution_count": null,
   "metadata": {},
   "outputs": [],
   "source": []
  }
 ],
 "metadata": {
  "kernelspec": {
   "display_name": "Python 3",
   "language": "python",
   "name": "python3"
  },
  "language_info": {
   "codemirror_mode": {
    "name": "ipython",
    "version": 3
   },
   "file_extension": ".py",
   "mimetype": "text/x-python",
   "name": "python",
   "nbconvert_exporter": "python",
   "pygments_lexer": "ipython3",
   "version": "3.6.6"
  }
 },
 "nbformat": 4,
 "nbformat_minor": 2
}
